{
  "nbformat": 4,
  "nbformat_minor": 0,
  "metadata": {
    "colab": {
      "provenance": [],
      "authorship_tag": "ABX9TyNinOpHaZGYnIaw/8PlZvNl",
      "include_colab_link": true
    },
    "kernelspec": {
      "name": "python3",
      "display_name": "Python 3"
    },
    "language_info": {
      "name": "python"
    }
  },
  "cells": [
    {
      "cell_type": "markdown",
      "metadata": {
        "id": "view-in-github",
        "colab_type": "text"
      },
      "source": [
        "<a href=\"https://colab.research.google.com/github/MeenakshiMony23/basic-python-machine-learning/blob/main/Untitled0.ipynb\" target=\"_parent\"><img src=\"https://colab.research.google.com/assets/colab-badge.svg\" alt=\"Open In Colab\"/></a>"
      ]
    },
    {
      "cell_type": "code",
      "source": [],
      "metadata": {
        "id": "u1mRgmqA-v_O"
      },
      "execution_count": null,
      "outputs": []
    },
    {
      "cell_type": "markdown",
      "source": [
        "#Introduction To Python\n"
      ],
      "metadata": {
        "id": "4d3RZNnWDIeE"
      }
    },
    {
      "cell_type": "markdown",
      "source": [],
      "metadata": {
        "id": "m2xCOz1q-xlW"
      }
    },
    {
      "cell_type": "markdown",
      "source": [
        "#First Program\n"
      ],
      "metadata": {
        "id": "lIP1LnnFDMKt"
      }
    },
    {
      "cell_type": "code",
      "source": [
        "print(\"Hello\")"
      ],
      "metadata": {
        "colab": {
          "base_uri": "https://localhost:8080/"
        },
        "id": "F8NQTmKe_FLX",
        "outputId": "ba7276f8-504a-41d4-b5e8-dcc21455d46c"
      },
      "execution_count": 4,
      "outputs": [
        {
          "output_type": "stream",
          "name": "stdout",
          "text": [
            "Hello\n"
          ]
        }
      ]
    },
    {
      "cell_type": "code",
      "source": [
        "a=10\n",
        "print(\"value of a\",a)"
      ],
      "metadata": {
        "colab": {
          "base_uri": "https://localhost:8080/"
        },
        "id": "eKBvJACiDOwM",
        "outputId": "6fa2bcb3-2361-4053-c6d6-6e8d4a755710"
      },
      "execution_count": 14,
      "outputs": [
        {
          "output_type": "stream",
          "name": "stdout",
          "text": [
            "value of a 10\n"
          ]
        }
      ]
    },
    {
      "cell_type": "code",
      "source": [
        "a=10\n",
        "b=5\n",
        "print(\"the sum of \",a,\"and\",b,\"is\",a+b)"
      ],
      "metadata": {
        "colab": {
          "base_uri": "https://localhost:8080/"
        },
        "id": "MPNsvexF-k4X",
        "outputId": "934b2de8-09ba-4475-c5f1-aecdc556f318"
      },
      "execution_count": 5,
      "outputs": [
        {
          "output_type": "stream",
          "name": "stdout",
          "text": [
            "the sum of  10 and 5 is 15\n"
          ]
        }
      ]
    },
    {
      "cell_type": "code",
      "source": [
        "a=int(input(\"enter first number\"))     #typecast input function table value as strings\n",
        "b=int(input(\"enter second number\"))\n",
        "print(\"the sum of\",a,\"and\",b,\"is\",a+b)"
      ],
      "metadata": {
        "colab": {
          "base_uri": "https://localhost:8080/"
        },
        "id": "I5snO7-P_XCW",
        "outputId": "2e72f0a3-de58-42f0-d21c-2d1018ea51f9"
      },
      "execution_count": 11,
      "outputs": [
        {
          "output_type": "stream",
          "name": "stdout",
          "text": [
            "enter first number10\n",
            "enter second number5\n",
            "the sum of 10 and 5 is 15\n"
          ]
        }
      ]
    },
    {
      "cell_type": "code",
      "source": [
        "#First Program"
      ],
      "metadata": {
        "id": "stJ47opSABa0"
      },
      "execution_count": 13,
      "outputs": []
    },
    {
      "cell_type": "markdown",
      "source": [
        "#First program\n"
      ],
      "metadata": {
        "id": "VkFvBbrvAvWF"
      }
    },
    {
      "cell_type": "code",
      "source": [],
      "metadata": {
        "id": "LkXEy2zuAzz8"
      },
      "execution_count": 13,
      "outputs": []
    }
  ]
}